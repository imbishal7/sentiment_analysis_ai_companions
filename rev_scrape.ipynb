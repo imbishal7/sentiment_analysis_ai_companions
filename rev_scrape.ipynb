{
  "nbformat": 4,
  "nbformat_minor": 0,
  "metadata": {
    "colab": {
      "provenance": []
    },
    "kernelspec": {
      "name": "python3",
      "display_name": "Python 3"
    },
    "language_info": {
      "name": "python"
    }
  },
  "cells": [
    {
      "cell_type": "code",
      "source": [
        "%%shell\n",
        "sudo apt -y update\n",
        "sudo apt install -y wget curl unzip\n",
        "wget http://archive.ubuntu.com/ubuntu/pool/main/libu/libu2f-host/libu2f-udev_1.1.4-1_all.deb\n",
        "dpkg -i libu2f-udev_1.1.4-1_all.deb\n",
        "wget https://dl.google.com/linux/direct/google-chrome-stable_current_amd64.deb\n",
        "dpkg -i google-chrome-stable_current_amd64.deb\n",
        "\n",
        "wget -N https://edgedl.me.gvt1.com/edgedl/chrome/chrome-for-testing/118.0.5993.70/linux64/chromedriver-linux64.zip -P /tmp/\n",
        "unzip -o /tmp/chromedriver-linux64.zip -d /tmp/\n",
        "chmod +x /tmp/chromedriver-linux64/chromedriver\n",
        "mv /tmp/chromedriver-linux64/chromedriver /usr/local/bin/chromedriver\n",
        "pip install selenium chromedriver_autoinstaller"
      ],
      "metadata": {
        "id": "-3EOXWDwzWue"
      },
      "execution_count": null,
      "outputs": []
    },
    {
      "cell_type": "code",
      "source": [
        "import json\n",
        "import requests\n",
        "import pandas as pd\n",
        "import numpy as np\n",
        "import random\n",
        "from bs4 import BeautifulSoup\n",
        "import re\n",
        "import time\n",
        "import sys\n",
        "import chromedriver_autoinstaller\n",
        "\n",
        "sys.path.insert(0,'/usr/lib/chromium-browser/chromedriver')\n",
        "\n",
        "\n",
        "from selenium import webdriver\n",
        "from selenium.webdriver.chrome.options import Options\n",
        "\n",
        "from selenium.webdriver.chrome.options import Options\n",
        "from selenium.webdriver.common.by import By\n",
        "from selenium.webdriver.common.keys import Keys\n"
      ],
      "metadata": {
        "id": "XUsl0NwnzfCT"
      },
      "execution_count": null,
      "outputs": []
    },
    {
      "cell_type": "code",
      "source": [
        "#--------------------Setting Up Driver---------------------#\n",
        "def driver_setup():\n",
        "\n",
        "  chrome_options = webdriver.ChromeOptions()\n",
        "  chrome_options.add_argument('--headless')\n",
        "  chrome_options.add_argument('--no-sandbox')\n",
        "  chrome_options.add_argument('--disable-dev-shm-usage')\n",
        "  chrome_options.add_argument(\"--disable-gpu\")\n",
        "\n",
        "  chromedriver_autoinstaller.install()\n",
        "\n",
        "  driver = webdriver.Chrome(options=chrome_options)\n",
        "\n",
        "  return driver"
      ],
      "metadata": {
        "id": "M0FxxH_HsOfl"
      },
      "execution_count": null,
      "outputs": []
    },
    {
      "cell_type": "code",
      "source": [
        "urls_google_play = ['https://play.google.com/store/apps/details?id=com.google.android.apps.googleassistant',\n",
        "                    'https://play.google.com/store/apps/details?id=com.openai.chatgpt',\n",
        "                    'https://play.google.com/store/apps/details?id=ai.replika.app',\n",
        "                    'https://play.google.com/store/apps/details?id=com.snapchat.android']\n",
        "\n",
        "\n",
        "#---------------------Element Selector Query & Classes-----------------#\n",
        "scrollable_class = \"odk6He\"\n",
        "\n",
        "#review_button_class = '.VfPpkd-Bz112c-LgbsSe.yHy1rc.eT1oJ.QDwDD.mN1ivc.VxpoF'\n",
        "review_button_selector = '.VfPpkd-Bz112c-LgbsSe.yHy1rc.eT1oJ.QDwDD.mN1ivc.VxpoF[aria-label=\"See more information on Ratings and reviews\"]'\n",
        "\n",
        "#star_button_query = '//span[text()=\"Star rating\"]'\n",
        "star_button_selector = \".odk6He > div:nth-child(1) > div:nth-child(1) > div:nth-child(1) > div:nth-child(1) > div:nth-child(3) > div:nth-child(2)\"\n",
        "\n",
        "star_rating_query = \"div.JPdR6b:nth-child(2) > div:nth-child(1) > div:nth-child(1) > span:nth-child({star})\"\n",
        "\n",
        "sort_by_selector = \"#sortBy_1\"\n",
        "\n",
        "newest_selector = \"div.JPdR6b:nth-child(2) > div:nth-child(1) > div:nth-child(1) > span:nth-child(2)\"\n",
        "#newest_selector = 'div.jO7h3c:contains(\"Newest\")'"
      ],
      "metadata": {
        "id": "WY1uExpksYLX"
      },
      "execution_count": null,
      "outputs": []
    },
    {
      "cell_type": "code",
      "source": [
        "#---------------------Scroll To The End ---------------#\n",
        "def scroll_to_end(driver, element):\n",
        "    repeated = 0\n",
        "    last_height = driver.execute_script(\"return arguments[0].scrollHeight;\", element)\n",
        "\n",
        "    while True:\n",
        "        driver.execute_script(\"arguments[0].scrollIntoView(false);\", element)\n",
        "        time.sleep(1)\n",
        "        try:\n",
        "          new_height = driver.execute_script(\"return arguments[0].scrollHeight;\", element)\n",
        "        except:\n",
        "          pass\n",
        "          #new_height = driver.execute_script(\"return arguments[0].scrollHeight;\", element)\n",
        "\n",
        "        print(f'Currently at {last_height} px. Repeat Count: {repeated}')\n",
        "\n",
        "        #How far to scroll in pixels...\n",
        "        if (new_height >3500000):\n",
        "          print(\"Pixel height reached 3500000. So Breaking.\")\n",
        "          break\n",
        "\n",
        "        if (last_height == new_height):\n",
        "            repeated+=1\n",
        "            print(f\"Reached the end for the {repeated} time.\")\n",
        "            if repeated ==100:\n",
        "               print(f\"The last height was {last_height} and the new height is {new_height}. So breaking.\")\n",
        "               break\n",
        "        else:\n",
        "           repeated = 0\n",
        "\n",
        "        last_height = new_height"
      ],
      "metadata": {
        "id": "UyfboUrPscJ7"
      },
      "execution_count": null,
      "outputs": []
    },
    {
      "cell_type": "code",
      "source": [
        "def scrape(url, star=[1,2,3,4,5]):\n",
        "  global driver\n",
        "  for star in star:\n",
        "\n",
        "    app = url.split(\"id=\")[1]\n",
        "    path = f\"/content/drive/MyDrive/HON/data/{app}_{star}_stars.html\"\n",
        "\n",
        "    print(f\"Scraping for {path}\")\n",
        "    driver = driver_setup()\n",
        "    driver.get(url)\n",
        "\n",
        "    time.sleep(1)\n",
        "    #Open Reviews&Ratings Popup\n",
        "    review_button = driver.find_element(By.CSS_SELECTOR, review_button_selector)\n",
        "    driver.execute_script(\"arguments[0].click();\", review_button)\n",
        "\n",
        "    #Popup Opens\n",
        "    time.sleep(1)\n",
        "    #Click on Star Ratings Filter\n",
        "    star_button = driver.find_element(By.CSS_SELECTOR, star_button_selector)\n",
        "    driver.execute_script(\"arguments[0].click();\", star_button)\n",
        "\n",
        "    time.sleep(1)\n",
        "    #Click on Specific Star Rating Button\n",
        "    query = star_rating_query.format(star=star+1)\n",
        "    star = driver.find_element(By.CSS_SELECTOR, query)\n",
        "    star.send_keys(Keys.RETURN)\n",
        "\n",
        "\n",
        "    #Scroll the Scrollable Area\n",
        "    time.sleep(1)\n",
        "    scrollable_area = driver.find_element(By.CLASS_NAME, scrollable_class)\n",
        "\n",
        "    scroll_to_end(driver, scrollable_area)\n",
        "\n",
        "    #Save the Final Page Source\n",
        "    content = driver.page_source\n",
        "    with open(path, 'w', encoding='utf-8') as f:\n",
        "       f.write(content)"
      ],
      "metadata": {
        "id": "pIC6Ar91bNjv"
      },
      "execution_count": null,
      "outputs": []
    },
    {
      "cell_type": "code",
      "source": [
        "#Do this for each url in separate colab notebook or using threads for faster scraping"
      ],
      "metadata": {
        "id": "rFhxQKROgAIE"
      },
      "execution_count": null,
      "outputs": []
    },
    {
      "cell_type": "markdown",
      "source": [],
      "metadata": {
        "id": "kzFlZzU4hOXr"
      }
    },
    {
      "cell_type": "code",
      "source": [
        "for url in urls_google_play:\n",
        "  scrape(url)"
      ],
      "metadata": {
        "id": "wmNqLQIvsKUF"
      },
      "execution_count": null,
      "outputs": []
    },
    {
      "cell_type": "code",
      "source": [],
      "metadata": {
        "id": "eDp_2KmhT4dY"
      },
      "execution_count": null,
      "outputs": []
    }
  ]
}